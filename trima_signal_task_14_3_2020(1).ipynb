{
 "cells": [
  {
   "cell_type": "code",
   "execution_count": 1,
   "metadata": {},
   "outputs": [],
   "source": [
    "import backtrader as bt\n",
    "import datetime\n",
    "import matplotlib.pyplot as plt\n",
    "%matplotlib inline"
   ]
  },
  {
   "cell_type": "code",
   "execution_count": 2,
   "metadata": {},
   "outputs": [],
   "source": [
    "import backtrader.feeds as btfeeds\n"
   ]
  },
  {
   "cell_type": "code",
   "execution_count": 6,
   "metadata": {},
   "outputs": [],
   "source": [
    "#Defining the moving average strategy\n",
    "class TrimaStrategy(bt.Strategy):\n",
    "    params = dict(tfast=5, tslow=35)\n",
    "    \n",
    "    def log(self, message, dt=None):\n",
    "        dt = dt or self.datas[0].datetime.date(0)\n",
    "        print(\"%s %s\" %(dt.isoformat(),message))\n",
    "        \n",
    "    def __init__(self):\n",
    "        self.dataclose = self.data.close\n",
    "        self.order = None\n",
    "        self.price = None\n",
    "        self.commission = None\n",
    "        trima_fast = bt.talib.TRIMA(close=self.dataclose, timeperiod=self.params.tfast)\n",
    "        trima_slow = bt.talib.TRIMA(close=self.dataclose, timeperiod=self.params.tslow)\n",
    "        volume_indicator = bt.talib.AD([self.data.high, self.data.low,\n",
    "                                      self.data.close, self.data.volume])\n",
    "\n",
    "    def notify_order(self, order):\n",
    "        if order.status in [order.Submitted, order.Accepted]:\n",
    "            return\n",
    "        \n",
    "        if order.status in [order.Completed]:\n",
    "            #Updating and printing the values if the order has gone through\n",
    "            if order.isbuy():\n",
    "                self.log('Stock Purchased, Price: %.2f,\\tCost: %.2f,\\tCommission: %.2f' \n",
    "                         %(order.executed.price, order.executed.value, order.executed.comm))\n",
    "                self.price = order.executed.price\n",
    "                self.commision = order.executed.comm\n",
    "                \n",
    "            else:\n",
    "                self.log('Stock Sold, Price: %.2f,\\tCost: %.2f,\\tCommission: %.2f'\n",
    "                         %(order.executed.price, order.executed.value, order.executed.comm))\n",
    "                \n",
    "        elif order.status in [order.Canceled, order.Margin, order.Rejected]:\n",
    "            self.log('Order Canceled/Margin/Rejected')\n",
    "            \n",
    "        #Any of the above two conditions, there is no pending order and an order can be placed\n",
    "        self.order = None\n",
    "        \n",
    "    def notify_trade(self, trade):\n",
    "        if not trade.isclosed:\n",
    "            return\n",
    "        \n",
    "        self.log('OPERATION PROFIT, GROSS %.2f, NET %.2f' %(trade.pnl, trade.pnlcomm))\n",
    "        \n",
    "    def next(self):\n",
    "        #Uncomment the next statement to log all the closing prices  of the series\n",
    "        self.log('Close, %.2f' % self.dataclose[0])\n",
    "        \n",
    "        if self.order:\n",
    "            return\n",
    "        \n",
    "        if not self.position:  #if not in the market\n",
    "            if (trima_fast-trima_slow) > 0.7:       #checking for the signal using the values given\n",
    "                if volume_indicator>0.0:            #checking the volume crossover condition\n",
    "                    self.log('Buy Order Placed: %.2f' %self.dataclose[0])\n",
    "                    #placing a stop loss order\n",
    "                    self.order = self.buy(data=self.datas[0], price=self.dataclose*0.8, exectype=Order.Stop)\n",
    "                    self.price = self.order.price\n",
    "                    self.comm = self.order.comm              \n",
    "            \n",
    "            \n",
    "            if self.order != None:\n",
    "                if self.order.value > 1.3*self.order.price:\n",
    "                    self.log('Price target breached, Sell order placed: %.2f' %self.dataclose[0])\n",
    "                    self.order = self.close()                \n",
    "                \n",
    "                elif (trima_fast-trima_slow < 0.4) :\n",
    "                    self.log('Exit Signal Generated, Sell Order Placed: %.2f' %self.dataclose[0])\n",
    "                    self.order = self.close()        \n",
    "                    #DO NOT use sell here, it will sell the stock even if it is not bought\n",
    "\n",
    "                #Selling an existing stock, just before the market closes\n",
    "                if (self.data.datetime()>=datetime.time(15,15)):\n",
    "                    self.log('Near EoD, Sell Order Placed: %.2f' %self.dataclose[0])\n",
    "                    self.order = self.close()"
   ]
  },
  {
   "cell_type": "code",
   "execution_count": 7,
   "metadata": {},
   "outputs": [
    {
     "name": "stdout",
     "output_type": "stream",
     "text": [
      "Initial Portfolio Value: 100000.00\n"
     ]
    },
    {
     "ename": "KeyboardInterrupt",
     "evalue": "",
     "output_type": "error",
     "traceback": [
      "\u001b[0;31m---------------------------------------------------------------------------\u001b[0m",
      "\u001b[0;31mKeyboardInterrupt\u001b[0m                         Traceback (most recent call last)",
      "\u001b[0;32m<ipython-input-7-6a52796e7761>\u001b[0m in \u001b[0;36m<module>\u001b[0;34m\u001b[0m\n\u001b[1;32m     33\u001b[0m     \u001b[0mprint\u001b[0m\u001b[0;34m(\u001b[0m\u001b[0;34m'Initial Portfolio Value: %.2f'\u001b[0m \u001b[0;34m%\u001b[0m\u001b[0minitial\u001b[0m\u001b[0;34m)\u001b[0m\u001b[0;34m\u001b[0m\u001b[0;34m\u001b[0m\u001b[0m\n\u001b[1;32m     34\u001b[0m \u001b[0;34m\u001b[0m\u001b[0m\n\u001b[0;32m---> 35\u001b[0;31m     \u001b[0mcerebro\u001b[0m\u001b[0;34m.\u001b[0m\u001b[0mrun\u001b[0m\u001b[0;34m(\u001b[0m\u001b[0;34m)\u001b[0m\u001b[0;34m\u001b[0m\u001b[0;34m\u001b[0m\u001b[0m\n\u001b[0m\u001b[1;32m     36\u001b[0m \u001b[0;34m\u001b[0m\u001b[0m\n\u001b[1;32m     37\u001b[0m     \u001b[0;31m#While calculating the final portfolio value, the current closing price of stock is taken, if not sold\u001b[0m\u001b[0;34m\u001b[0m\u001b[0;34m\u001b[0m\u001b[0;34m\u001b[0m\u001b[0m\n",
      "\u001b[0;32m~/Desktop/Algo_trading_iitk/env/lib/python3.7/site-packages/backtrader/cerebro.py\u001b[0m in \u001b[0;36mrun\u001b[0;34m(self, **kwargs)\u001b[0m\n\u001b[1;32m   1125\u001b[0m             \u001b[0;31m# let's skip process \"spawning\"\u001b[0m\u001b[0;34m\u001b[0m\u001b[0;34m\u001b[0m\u001b[0;34m\u001b[0m\u001b[0m\n\u001b[1;32m   1126\u001b[0m             \u001b[0;32mfor\u001b[0m \u001b[0miterstrat\u001b[0m \u001b[0;32min\u001b[0m \u001b[0miterstrats\u001b[0m\u001b[0;34m:\u001b[0m\u001b[0;34m\u001b[0m\u001b[0;34m\u001b[0m\u001b[0m\n\u001b[0;32m-> 1127\u001b[0;31m                 \u001b[0mrunstrat\u001b[0m \u001b[0;34m=\u001b[0m \u001b[0mself\u001b[0m\u001b[0;34m.\u001b[0m\u001b[0mrunstrategies\u001b[0m\u001b[0;34m(\u001b[0m\u001b[0miterstrat\u001b[0m\u001b[0;34m)\u001b[0m\u001b[0;34m\u001b[0m\u001b[0;34m\u001b[0m\u001b[0m\n\u001b[0m\u001b[1;32m   1128\u001b[0m                 \u001b[0mself\u001b[0m\u001b[0;34m.\u001b[0m\u001b[0mrunstrats\u001b[0m\u001b[0;34m.\u001b[0m\u001b[0mappend\u001b[0m\u001b[0;34m(\u001b[0m\u001b[0mrunstrat\u001b[0m\u001b[0;34m)\u001b[0m\u001b[0;34m\u001b[0m\u001b[0;34m\u001b[0m\u001b[0m\n\u001b[1;32m   1129\u001b[0m                 \u001b[0;32mif\u001b[0m \u001b[0mself\u001b[0m\u001b[0;34m.\u001b[0m\u001b[0m_dooptimize\u001b[0m\u001b[0;34m:\u001b[0m\u001b[0;34m\u001b[0m\u001b[0;34m\u001b[0m\u001b[0m\n",
      "\u001b[0;32m~/Desktop/Algo_trading_iitk/env/lib/python3.7/site-packages/backtrader/cerebro.py\u001b[0m in \u001b[0;36mrunstrategies\u001b[0;34m(self, iterstrat, predata)\u001b[0m\n\u001b[1;32m   1262\u001b[0m \u001b[0;34m\u001b[0m\u001b[0m\n\u001b[1;32m   1263\u001b[0m                 \u001b[0mstrat\u001b[0m\u001b[0;34m.\u001b[0m\u001b[0m_settz\u001b[0m\u001b[0;34m(\u001b[0m\u001b[0mtz\u001b[0m\u001b[0;34m)\u001b[0m\u001b[0;34m\u001b[0m\u001b[0;34m\u001b[0m\u001b[0m\n\u001b[0;32m-> 1264\u001b[0;31m                 \u001b[0mstrat\u001b[0m\u001b[0;34m.\u001b[0m\u001b[0m_start\u001b[0m\u001b[0;34m(\u001b[0m\u001b[0;34m)\u001b[0m\u001b[0;34m\u001b[0m\u001b[0;34m\u001b[0m\u001b[0m\n\u001b[0m\u001b[1;32m   1265\u001b[0m \u001b[0;34m\u001b[0m\u001b[0m\n\u001b[1;32m   1266\u001b[0m                 \u001b[0;32mfor\u001b[0m \u001b[0mwriter\u001b[0m \u001b[0;32min\u001b[0m \u001b[0mself\u001b[0m\u001b[0;34m.\u001b[0m\u001b[0mrunwriters\u001b[0m\u001b[0;34m:\u001b[0m\u001b[0;34m\u001b[0m\u001b[0;34m\u001b[0m\u001b[0m\n",
      "\u001b[0;32m~/Desktop/Algo_trading_iitk/env/lib/python3.7/site-packages/backtrader/strategy.py\u001b[0m in \u001b[0;36m_start\u001b[0;34m(self)\u001b[0m\n\u001b[1;32m    392\u001b[0m \u001b[0;34m\u001b[0m\u001b[0m\n\u001b[1;32m    393\u001b[0m     \u001b[0;32mdef\u001b[0m \u001b[0m_start\u001b[0m\u001b[0;34m(\u001b[0m\u001b[0mself\u001b[0m\u001b[0;34m)\u001b[0m\u001b[0;34m:\u001b[0m\u001b[0;34m\u001b[0m\u001b[0;34m\u001b[0m\u001b[0m\n\u001b[0;32m--> 394\u001b[0;31m         \u001b[0mself\u001b[0m\u001b[0;34m.\u001b[0m\u001b[0m_periodset\u001b[0m\u001b[0;34m(\u001b[0m\u001b[0;34m)\u001b[0m\u001b[0;34m\u001b[0m\u001b[0;34m\u001b[0m\u001b[0m\n\u001b[0m\u001b[1;32m    395\u001b[0m \u001b[0;34m\u001b[0m\u001b[0m\n\u001b[1;32m    396\u001b[0m         \u001b[0;32mfor\u001b[0m \u001b[0manalyzer\u001b[0m \u001b[0;32min\u001b[0m \u001b[0mitertools\u001b[0m\u001b[0;34m.\u001b[0m\u001b[0mchain\u001b[0m\u001b[0;34m(\u001b[0m\u001b[0mself\u001b[0m\u001b[0;34m.\u001b[0m\u001b[0manalyzers\u001b[0m\u001b[0;34m,\u001b[0m \u001b[0mself\u001b[0m\u001b[0;34m.\u001b[0m\u001b[0m_slave_analyzers\u001b[0m\u001b[0;34m)\u001b[0m\u001b[0;34m:\u001b[0m\u001b[0;34m\u001b[0m\u001b[0;34m\u001b[0m\u001b[0m\n",
      "\u001b[0;32m~/Desktop/Algo_trading_iitk/env/lib/python3.7/site-packages/backtrader/strategy.py\u001b[0m in \u001b[0;36m_periodset\u001b[0;34m(self)\u001b[0m\n\u001b[1;32m    171\u001b[0m \u001b[0;34m\u001b[0m\u001b[0m\n\u001b[1;32m    172\u001b[0m                 \u001b[0;31m# See if the current clock has higher level clocks\u001b[0m\u001b[0;34m\u001b[0m\u001b[0;34m\u001b[0m\u001b[0;34m\u001b[0m\u001b[0m\n\u001b[0;32m--> 173\u001b[0;31m                 \u001b[0mclk2\u001b[0m \u001b[0;34m=\u001b[0m \u001b[0mgetattr\u001b[0m\u001b[0;34m(\u001b[0m\u001b[0mclk\u001b[0m\u001b[0;34m,\u001b[0m \u001b[0;34m'_clock'\u001b[0m\u001b[0;34m,\u001b[0m \u001b[0;32mNone\u001b[0m\u001b[0;34m)\u001b[0m\u001b[0;34m\u001b[0m\u001b[0;34m\u001b[0m\u001b[0m\n\u001b[0m\u001b[1;32m    174\u001b[0m                 \u001b[0;32mif\u001b[0m \u001b[0mclk2\u001b[0m \u001b[0;32mis\u001b[0m \u001b[0;32mNone\u001b[0m\u001b[0;34m:\u001b[0m\u001b[0;34m\u001b[0m\u001b[0;34m\u001b[0m\u001b[0m\n\u001b[1;32m    175\u001b[0m                     \u001b[0mclk2\u001b[0m \u001b[0;34m=\u001b[0m \u001b[0mgetattr\u001b[0m\u001b[0;34m(\u001b[0m\u001b[0mclk\u001b[0m\u001b[0;34m.\u001b[0m\u001b[0m_owner\u001b[0m\u001b[0;34m,\u001b[0m \u001b[0;34m'_clock'\u001b[0m\u001b[0;34m,\u001b[0m \u001b[0;32mNone\u001b[0m\u001b[0;34m)\u001b[0m\u001b[0;34m\u001b[0m\u001b[0;34m\u001b[0m\u001b[0m\n",
      "\u001b[0;32m~/Desktop/Algo_trading_iitk/env/lib/python3.7/site-packages/backtrader/lineseries.py\u001b[0m in \u001b[0;36m__getattr__\u001b[0;34m(self, name)\u001b[0m\n\u001b[1;32m    455\u001b[0m         \u001b[0;32mreturn\u001b[0m \u001b[0mself\u001b[0m\u001b[0;34m.\u001b[0m\u001b[0mlines\u001b[0m\u001b[0;34m[\u001b[0m\u001b[0;36m0\u001b[0m\u001b[0;34m]\u001b[0m\u001b[0;34m.\u001b[0m\u001b[0marray\u001b[0m\u001b[0;34m\u001b[0m\u001b[0;34m\u001b[0m\u001b[0m\n\u001b[1;32m    456\u001b[0m \u001b[0;34m\u001b[0m\u001b[0m\n\u001b[0;32m--> 457\u001b[0;31m     \u001b[0;32mdef\u001b[0m \u001b[0m__getattr__\u001b[0m\u001b[0;34m(\u001b[0m\u001b[0mself\u001b[0m\u001b[0;34m,\u001b[0m \u001b[0mname\u001b[0m\u001b[0;34m)\u001b[0m\u001b[0;34m:\u001b[0m\u001b[0;34m\u001b[0m\u001b[0;34m\u001b[0m\u001b[0m\n\u001b[0m\u001b[1;32m    458\u001b[0m         \u001b[0;31m# to refer to line by name directly if the attribute was not found\u001b[0m\u001b[0;34m\u001b[0m\u001b[0;34m\u001b[0m\u001b[0;34m\u001b[0m\u001b[0m\n\u001b[1;32m    459\u001b[0m         \u001b[0;31m# in this object if we set an attribute in this object it will be\u001b[0m\u001b[0;34m\u001b[0m\u001b[0;34m\u001b[0m\u001b[0;34m\u001b[0m\u001b[0m\n",
      "\u001b[0;31mKeyboardInterrupt\u001b[0m: "
     ]
    }
   ],
   "source": [
    "if __name__ == '__main__':\n",
    "    \n",
    "    cerebro = bt.Cerebro()\n",
    "    cerebro.addstrategy(TrimaStrategy)\n",
    "    \n",
    "    #Data path specific to my computer\n",
    "    datapath = '/home/aviral/Downloads/Nifty_sample.csv'\n",
    "    data = btfeeds.GenericCSVData(\n",
    "        dataname = datapath,\n",
    "        fromdate = datetime.datetime(2013, 1, 1),\n",
    "        todate = datetime.datetime(2013, 12, 31),\n",
    "\n",
    "        nullvalue = 0.0,\n",
    "\n",
    "        dtformat = ('%d/%m/%Y'),\n",
    "        tmformat = ('%H:%M:%S'),\n",
    "\n",
    "        datetime=0,\n",
    "        time=1,\n",
    "        open=2,\n",
    "        high=3,\n",
    "        low=4,\n",
    "        close=5,\n",
    "        volume=6,\n",
    "        openinterest=-1\n",
    "    )\n",
    "    \n",
    "    cerebro.broker.setcash(100000.0)\n",
    "    cerebro.adddata(data)\n",
    "    cerebro.broker.setcommission(commission=0.001)\n",
    "    \n",
    "    initial = cerebro.broker.getvalue()\n",
    "    print('Initial Portfolio Value: %.2f' %initial)\n",
    "\n",
    "    cerebro.run()\n",
    "\n",
    "    #While calculating the final portfolio value, the current closing price of stock is taken, if not sold\n",
    "    final =  cerebro.broker.getvalue()\n",
    "    print('Final Portfolio Value: %.2f' %final)\n",
    "    print('Net profit/loss on the trade: %.2f' %(final-initial))\n",
    "\n"
   ]
  },
  {
   "cell_type": "code",
   "execution_count": null,
   "metadata": {},
   "outputs": [],
   "source": []
  },
  {
   "cell_type": "code",
   "execution_count": null,
   "metadata": {},
   "outputs": [],
   "source": []
  }
 ],
 "metadata": {
  "kernelspec": {
   "display_name": "Python 2",
   "language": "python",
   "name": "python2"
  },
  "language_info": {
   "codemirror_mode": {
    "name": "ipython",
    "version": 3
   },
   "file_extension": ".py",
   "mimetype": "text/x-python",
   "name": "python",
   "nbconvert_exporter": "python",
   "pygments_lexer": "ipython3",
   "version": "3.7.5"
  }
 },
 "nbformat": 4,
 "nbformat_minor": 2
}
